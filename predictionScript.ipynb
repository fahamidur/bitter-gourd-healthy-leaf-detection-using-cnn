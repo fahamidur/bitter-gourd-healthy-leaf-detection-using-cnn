{
 "cells": [
  {
   "cell_type": "code",
   "execution_count": 17,
   "metadata": {},
   "outputs": [],
   "source": [
    "import cv2\n",
    "import tensorflow as tf\n",
    "import os"
   ]
  },
  {
   "cell_type": "code",
   "execution_count": 16,
   "metadata": {},
   "outputs": [],
   "source": [
    "CAT = ['healthy','disease']\n",
    "\n",
    "def prepare(filename):\n",
    "    IMG_SIZE = 100\n",
    "    img_array = cv2.imread(filename)\n",
    "    new_array = cv2.resize(img_array,(IMG_SIZE,IMG_SIZE))\n",
    "    return new_array.reshape(-1,IMG_SIZE,IMG_SIZE,3)\n",
    "\n",
    "model = tf.keras.models.load_model(\"CNN_BitterGourd.model\")\n",
    "\n",
    "\n"
   ]
  },
  {
   "cell_type": "code",
   "execution_count": 19,
   "metadata": {},
   "outputs": [
    {
     "name": "stdout",
     "output_type": "stream",
     "text": [
      ".\\Downey mildew\\pic1.jpeg is a :  healthy\n",
      ".\\Downey mildew\\pic10.jpeg is a :  disease\n",
      ".\\Downey mildew\\pic11.jpeg is a :  disease\n",
      ".\\Downey mildew\\pic12.jpeg is a :  healthy\n",
      ".\\Downey mildew\\pic13.jpeg is a :  healthy\n",
      ".\\Downey mildew\\pic14.jpeg is a :  disease\n",
      ".\\Downey mildew\\pic15.jpeg is a :  disease\n",
      ".\\Downey mildew\\pic16.jpeg is a :  healthy\n",
      ".\\Downey mildew\\pic17.jpeg is a :  disease\n",
      ".\\Downey mildew\\pic18.jpeg is a :  disease\n",
      ".\\Downey mildew\\pic19.jpeg is a :  healthy\n",
      ".\\Downey mildew\\pic2.jpeg is a :  healthy\n",
      ".\\Downey mildew\\pic20.jpeg is a :  disease\n",
      ".\\Downey mildew\\pic21.jpeg is a :  healthy\n",
      ".\\Downey mildew\\pic22.jpeg is a :  healthy\n",
      ".\\Downey mildew\\pic23.jpeg is a :  healthy\n",
      ".\\Downey mildew\\pic24.jpeg is a :  disease\n",
      ".\\Downey mildew\\pic25.jpeg is a :  healthy\n",
      ".\\Downey mildew\\pic26.jpeg is a :  healthy\n",
      ".\\Downey mildew\\pic27.jpeg is a :  healthy\n",
      ".\\Downey mildew\\pic28.jpeg is a :  healthy\n",
      ".\\Downey mildew\\pic29.jpeg is a :  healthy\n",
      ".\\Downey mildew\\pic3.jpeg is a :  healthy\n",
      ".\\Downey mildew\\pic30.jpeg is a :  healthy\n",
      ".\\Downey mildew\\pic31.jpeg is a :  healthy\n",
      ".\\Downey mildew\\pic32.jpeg is a :  healthy\n",
      ".\\Downey mildew\\pic33.jpeg is a :  healthy\n",
      ".\\Downey mildew\\pic4.jpeg is a :  healthy\n",
      ".\\Downey mildew\\pic5.jpeg is a :  healthy\n",
      ".\\Downey mildew\\pic6.jpeg is a :  disease\n",
      ".\\Downey mildew\\pic7.jpeg is a :  disease\n",
      ".\\Downey mildew\\pic8.jpeg is a :  disease\n",
      ".\\Downey mildew\\pic9.jpeg is a :  disease\n"
     ]
    }
   ],
   "source": [
    "path = '.\\testingimages'\n",
    "\n",
    "files = os.listdir(path)\n",
    "for img in files:\n",
    "    image = os.path.join(path,img)\n",
    "    prediction = model.predict([prepare(image)])\n",
    "    print(f\"{image} is a :\",end = \"  \")\n",
    "    print(CAT[int(prediction[0][0])])\n"
   ]
  }
 ],
 "metadata": {
  "interpreter": {
   "hash": "31fdff88b1c02f2c00b5c761abcf2c04695ae285dc6e8b9207fa5599f52f74c8"
  },
  "kernelspec": {
   "display_name": "Python 3.9.7 ('ds31')",
   "language": "python",
   "name": "python3"
  },
  "language_info": {
   "codemirror_mode": {
    "name": "ipython",
    "version": 3
   },
   "file_extension": ".py",
   "mimetype": "text/x-python",
   "name": "python",
   "nbconvert_exporter": "python",
   "pygments_lexer": "ipython3",
   "version": "3.9.7"
  },
  "orig_nbformat": 4
 },
 "nbformat": 4,
 "nbformat_minor": 2
}
